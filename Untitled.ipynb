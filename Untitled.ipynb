{
 "cells": [
  {
   "cell_type": "code",
   "execution_count": null,
   "id": "a4a67a6d-71b5-4394-92b7-d625682dafb3",
   "metadata": {
    "tags": []
   },
   "outputs": [],
   "source": [
    "import pandas as pd\n",
    "import numpy as np\n",
    "import io\n",
    "\n",
    "def unix_timestamp(date_string):\n",
    "    # Input date as a string in the format 'YYYY-MM-DD'\n",
    "    # Convert the date string to a datetime object\n",
    "    date_obj = datetime.strptime(date_string, '%Y-%m-%d')\n",
    "    # Convert the datetime object to a Unix timestamp\n",
    "    return int(date_obj.timestamp())\n",
    "\n",
    "proxies=None\n",
    "try:\n",
    "    proxy=open(\"./proxy.cfg\").read().splitlines()\n",
    "    proxy_host=proxy[0]\n",
    "    proxy_port=proxy[1]\n",
    "    '''\n",
    "        RICORDA : CONFIGURA HTTPS COME HTTP\n",
    "    '''\n",
    "    proxies={\n",
    "        \"http\": f\"http://{proxy_host}:{proxy_port}\",\n",
    "        \"https\": f\"http://{proxy_host}:{proxy_port}\"\n",
    "    }\n",
    "    \n",
    "except:\n",
    "    proxies=None\n",
    "\n",
    "\n",
    "'''\n",
    "    PER EVITARE ERRORE 403 DEVO METTERE PARAMETRO HEADERS\n",
    "'''\n",
    "headers = {\n",
    "    'User-Agent': 'Mozilla/5.0 (Windows NT 10.0; Win64; x64; rv:106.0) Gecko/20100101 Firefox/106.0',\n",
    "    'Accept': 'text/html,application/xhtml+xml,application/xml;q=0.9,image/avif,image/webp,*/*;q=0.8',\n",
    "    'Accept-Language': 'en-US,en;q=0.5',\n",
    "    # 'Accept-Encoding': 'gzip, deflate, br',\n",
    "    'DNT': '1',\n",
    "    'Connection': 'keep-alive',\n",
    "    'Upgrade-Insecure-Requests': '1',\n",
    "    'Sec-Fetch-Dest': 'document',\n",
    "    'Sec-Fetch-Mode': 'navigate',\n",
    "    'Sec-Fetch-Site': 'none',\n",
    "    'Sec-Fetch-User': '?1',\n",
    "}\n"
   ]
  },
  {
   "cell_type": "code",
   "execution_count": null,
   "id": "f24c0468",
   "metadata": {},
   "outputs": [],
   "source": []
  },
  {
   "cell_type": "code",
   "execution_count": null,
   "id": "b81ea00a",
   "metadata": {},
   "outputs": [],
   "source": []
  },
  {
   "cell_type": "code",
   "execution_count": null,
   "id": "53e40f99",
   "metadata": {},
   "outputs": [],
   "source": []
  },
  {
   "cell_type": "code",
   "execution_count": null,
   "id": "9be94fb0",
   "metadata": {},
   "outputs": [],
   "source": []
  },
  {
   "cell_type": "code",
   "execution_count": null,
   "id": "02e4762e",
   "metadata": {},
   "outputs": [],
   "source": []
  },
  {
   "cell_type": "code",
   "execution_count": null,
   "id": "7ce3026d-1a93-4c7e-8001-0f10f6e769b7",
   "metadata": {
    "tags": []
   },
   "outputs": [],
   "source": [
    "indici={\"^DJI\":'DowJones',\"ES=F\":\"S&p500\",\"NQ=F\":'NasdQ',\"RTY=F\":'Russel2000',\n",
    "        \"^GDAXI\":'DAX',\"FTSEMIB.MI\":'FTESEMIB'}\n",
    "\n",
    "metalliP={\"GC=F\":'Oro',\"SI=F\":'Argento',\"PL=F\":'Platino'}\n",
    "metalliI={ \"HG=F\":'Rame',\"ALI=F\":\"Alluminio\",\"PA=F\":\"Palladio\"}\n",
    "energia={'NG=F':\"Natural gas\",\"CL=F\":\"Crude oil\"}\n",
    "coloniali={\"SB=F\":\"Zuzzhero\",  \"KC=F\":'Coffee',\"CC=F\":'Cocoa',\"OJ=F\":'OrangeJuice'}\n",
    "agricoli={ \"ZC=F\":'Corn',\"ZW=F\":'Wheat',\"ZS=F\":'SoyaBeans',\"ZL=F\":\"SoyaBeanOil\"}\n",
    "\n",
    "commodities={**metalliP,**metalliI,**energia,**coloniali,**agricoli,**indici}\n",
    "metalli={**metalliP,**metalliI}\n",
    "\n",
    "\n",
    "\n",
    "index_keys=list(indici.keys())\n",
    "metal_keys=list(metalli.keys())\n",
    "energy_keys=list(energia.keys())\n",
    "colonial_keys=list(coloniali.keys())\n",
    "agricol_keys=list(agricoli.keys())\n",
    "index_values=list(indici.values())\n",
    "metal_values=list(metalli.values())\n",
    "metalI_values=list(metalliI.values())\n",
    "metalP_values=list(metalliP.values())\n",
    "\n",
    "energy_values=list(energia.values())\n",
    "colonial_values=list(coloniali.values())\n",
    "agricol_values=list(agricoli.values())\n"
   ]
  },
  {
   "cell_type": "code",
   "execution_count": null,
   "id": "8164e914-0698-45e2-82b0-9aa8d2629ecf",
   "metadata": {
    "tags": []
   },
   "outputs": [],
   "source": [
    "import pandas as pd\n",
    "import io\n",
    "import requests\n",
    "from datetime import datetime\n",
    "from datetime import timedelta\n",
    "def getsymbol(symbol,fromd=None,to=None,days=1,proxy=False):\n",
    "    now=datetime.now()\n",
    "    if to is None:\n",
    "        to=now\n",
    "    _end_date=\"{}-{}-{}\".format(to.year,to.month,to.day)\n",
    "    if fromd is None:\n",
    "        start=to- timedelta(days=days)\n",
    "    else:\n",
    "        start=fromd\n",
    "    _start_date=\"{}-{}-{}\".format(start.year,start.month,start.day)\n",
    "    start_date=unix_timestamp(_start_date)\n",
    "    end_date=unix_timestamp(_end_date)\n",
    "    url = f\"https://query1.finance.yahoo.com/v7/finance/download/{symbol}?period1={start_date}&period2={end_date}&interval=1d&events=history\"\n",
    "    if proxies:\n",
    "        response = requests.get(url,proxies=proxies,headers=headers)\n",
    "    else:\n",
    "        response = requests.get(url,headers=headers)\n",
    "    \n",
    "    if response.status_code == 200:\n",
    "        df= pd.read_csv(io.StringIO(response.text))\n",
    "        df['Symbol']=symbol\n",
    "        return df\n",
    "    else:\n",
    "        print(\"Error recuperando simbolo {}\".format(symbol),end='')\n",
    "        return None\n",
    "\n",
    "def normalizza(df):\n",
    "    def normx(data,maxcol,mincol):\n",
    "        return (data-np.min(data))/(np.max(data)-np.min(data))     \n",
    "    dfx=df.pivot(index='Date',columns='Symbol',values='Close')\n",
    "    dfnorm=dfx.apply(lambda x : normx(x,x.max(),x.min()))\n",
    "    return dfnorm    \n",
    "\n",
    "\n",
    "def create_dataframe(symboldict,years=1):\n",
    "    days=int(years*365)\n",
    "    if days<=0:\n",
    "        print(\"Errore : numero giorni =0, numero anni = {}\".format(years))\n",
    "        \n",
    "    dfList=[]\n",
    "    now=datetime.now()\n",
    "    today=\"{}-{}-{}\".format(now.year,now.month,now.day)\n",
    "    start=now- timedelta(days=years*365)\n",
    "    _start_date=\"{}-{}-{}\".format(start.year,start.month,start.day)\n",
    "    for k,d in symboldict.items():\n",
    "        print(\"*\",end='')\n",
    "        symbol=k\n",
    "        _end_date=today\n",
    "        start_date=unix_timestamp(_start_date)\n",
    "        end_date=unix_timestamp(_end_date)\n",
    "        url = f\"https://query1.finance.yahoo.com/v7/finance/download/{symbol}?period1={start_date}&period2={end_date}&interval=1d&events=history\"\n",
    "        if proxies is not None:\n",
    "            response = requests.get(url,proxies=proxies,headers=headers)\n",
    "        else:\n",
    "            response = requests.get(url,headers=headers)\n",
    "        if response.status_code == 200:\n",
    "            # Data is available in response.text\n",
    "            print(\"Response 200 : OK;  \",end='')\n",
    "            dfx=pd.read_csv(io.StringIO(response.text))\n",
    "            dfx['Date']=pd.to_datetime(dfx['Date'])\n",
    "            dfx['Symbol']=d\n",
    "            dfList.append(dfx)\n",
    "        else:\n",
    "            print(\"Error recuperando simbolo {}\".format(symbol))\n",
    "            print(f\"Error fetching data. Status code: {response.status_code}\")\n",
    "\n",
    "    df=pd.concat(dfList)    \n",
    "    return df\n",
    "\n"
   ]
  },
  {
   "cell_type": "code",
   "execution_count": null,
   "id": "a8b84150-0528-4aed-9b5f-a247f9f5c26c",
   "metadata": {
    "tags": []
   },
   "outputs": [
    {
     "name": "stdout",
     "output_type": "stream",
     "text": [
      "*Response 200 : OK;  *Response 200 : OK;  *Response 200 : OK;  *Response 200 : OK;  *Response 200 : OK;  *Response 200 : OK;  *Response 200 : OK;  *Response 200 : OK;  *Response 200 : OK;  *Response 200 : OK;  *Response 200 : OK;  *Response 200 : OK;  *Response 200 : OK;  *Response 200 : OK;  *Response 200 : OK;  *Response 200 : OK;  *Response 200 : OK;  *Response 200 : OK;  *Response 200 : OK;  *Response 200 : OK;  *Response 200 : OK;  *Response 200 : OK;  "
     ]
    }
   ],
   "source": [
    "df=create_dataframe(commodities,years=5)\n"
   ]
  },
  {
   "cell_type": "code",
   "execution_count": null,
   "id": "130cec74-e753-41a6-904b-f856014ff365",
   "metadata": {
    "tags": []
   },
   "outputs": [
    {
     "ename": "ModuleNotFoundError",
     "evalue": "No module named 'matplotlib'",
     "output_type": "error",
     "traceback": [
      "\u001b[0;31m---------------------------------------------------------------------------\u001b[0m",
      "\u001b[0;31mModuleNotFoundError\u001b[0m                       Traceback (most recent call last)",
      "Cell \u001b[0;32mIn[25], line 1\u001b[0m\n\u001b[0;32m----> 1\u001b[0m \u001b[38;5;28;01mimport\u001b[39;00m \u001b[38;5;21;01mmatplotlib\u001b[39;00m\n\u001b[1;32m      2\u001b[0m \u001b[38;5;28;01mdef\u001b[39;00m \u001b[38;5;21mcompare_all_commodities\u001b[39m(mesi\u001b[38;5;241m=\u001b[39m\u001b[38;5;241m12\u001b[39m,marker\u001b[38;5;241m=\u001b[39m\u001b[38;5;124m'\u001b[39m\u001b[38;5;124m'\u001b[39m):\n\u001b[1;32m      3\u001b[0m     \u001b[38;5;28;01mif\u001b[39;00m mesi\u001b[38;5;241m<\u001b[39m\u001b[38;5;241m12\u001b[39m:\n",
      "\u001b[0;31mModuleNotFoundError\u001b[0m: No module named 'matplotlib'"
     ]
    }
   ],
   "source": [
    "import matplotlib\n",
    "def compare_all_commodities(mesi=12,marker=''):\n",
    "    if mesi<12:\n",
    "        marker='x'\n",
    "    days=mesi*30\n",
    "    \n",
    "    def plotta(dfn,valuelist,title=\"\"):\n",
    "        ax=dfn.loc[:,valuelist].plot(figsize=(15,5),marker=marker)\n",
    "        ax.set_title(title)\n",
    "        ax.grid()\n",
    "\n",
    "    dfn=normalizza(df).iloc[-1*days:-1,:]\n",
    "    \n",
    "    #df_normalized.reset_index(inplace=True)\n",
    "    #PLOT\n",
    "    v=list(energia.values())\n",
    "    plotta(dfn,v,\"Energia\")\n",
    "    v=list(metalliI.values())\n",
    "    plotta(dfn,v,\"Metalli Industriali\")\n",
    "    v=list(metalliP.values())\n",
    "    plotta(dfn,v,\"Metalli preziosi\")\n",
    "    v=list(agricoli.values())\n",
    "    plotta(dfn,v,\"Agricoli\")\n",
    "    v=list(coloniali.values())\n",
    "    plotta(dfn,v,\"Coloniali\")    \n",
    "    v=list(indici.values())\n",
    "    plotta(dfn,v,\"Indici\")\n"
   ]
  },
  {
   "cell_type": "code",
   "execution_count": null,
   "id": "581c06e6-2c17-4b64-8843-fffdb6321761",
   "metadata": {
    "tags": []
   },
   "outputs": [
    {
     "ename": "ImportError",
     "evalue": "matplotlib is required for plotting when the default backend \"matplotlib\" is selected.",
     "output_type": "error",
     "traceback": [
      "\u001b[0;31m---------------------------------------------------------------------------\u001b[0m",
      "\u001b[0;31mImportError\u001b[0m                               Traceback (most recent call last)",
      "Cell \u001b[0;32mIn[26], line 1\u001b[0m\n\u001b[0;32m----> 1\u001b[0m \u001b[43mcompare_all_commodities\u001b[49m\u001b[43m(\u001b[49m\u001b[43m)\u001b[49m\n",
      "Cell \u001b[0;32mIn[23], line 11\u001b[0m, in \u001b[0;36mcompare_all_commodities\u001b[0;34m(mesi, marker)\u001b[0m\n\u001b[1;32m      7\u001b[0m df_normalized\u001b[38;5;241m=\u001b[39mnormalizza(df)\u001b[38;5;241m.\u001b[39miloc[\u001b[38;5;241m-\u001b[39m\u001b[38;5;241m1\u001b[39m\u001b[38;5;241m*\u001b[39mdays:\u001b[38;5;241m-\u001b[39m\u001b[38;5;241m1\u001b[39m,:]\n\u001b[1;32m      9\u001b[0m \u001b[38;5;66;03m#df_normalized.reset_index(inplace=True)\u001b[39;00m\n\u001b[1;32m     10\u001b[0m \u001b[38;5;66;03m#PLOT\u001b[39;00m\n\u001b[0;32m---> 11\u001b[0m ax\u001b[38;5;241m=\u001b[39m\u001b[43mdf_normalized\u001b[49m\u001b[38;5;241;43m.\u001b[39;49m\u001b[43mloc\u001b[49m\u001b[43m[\u001b[49m\u001b[43m:\u001b[49m\u001b[43m,\u001b[49m\u001b[38;5;28;43mlist\u001b[39;49m\u001b[43m(\u001b[49m\u001b[43menergia\u001b[49m\u001b[38;5;241;43m.\u001b[39;49m\u001b[43mvalues\u001b[49m\u001b[43m(\u001b[49m\u001b[43m)\u001b[49m\u001b[43m)\u001b[49m\u001b[43m]\u001b[49m\u001b[38;5;241;43m.\u001b[39;49m\u001b[43mplot\u001b[49m\u001b[43m(\u001b[49m\u001b[43mfigsize\u001b[49m\u001b[38;5;241;43m=\u001b[39;49m\u001b[43m(\u001b[49m\u001b[38;5;241;43m15\u001b[39;49m\u001b[43m,\u001b[49m\u001b[38;5;241;43m5\u001b[39;49m\u001b[43m)\u001b[49m\u001b[43m,\u001b[49m\u001b[43mmarker\u001b[49m\u001b[38;5;241;43m=\u001b[39;49m\u001b[43mmarker\u001b[49m\u001b[43m)\u001b[49m\n\u001b[1;32m     12\u001b[0m ax\u001b[38;5;241m.\u001b[39mset_title(\u001b[38;5;124m\"\u001b[39m\u001b[38;5;124mEnergy\u001b[39m\u001b[38;5;124m\"\u001b[39m)\n\u001b[1;32m     13\u001b[0m ax\u001b[38;5;241m=\u001b[39mdf_normalized\u001b[38;5;241m.\u001b[39mloc[:,\u001b[38;5;28mlist\u001b[39m(metalliI\u001b[38;5;241m.\u001b[39mvalues())]\u001b[38;5;241m.\u001b[39mplot(figsize\u001b[38;5;241m=\u001b[39m(\u001b[38;5;241m15\u001b[39m,\u001b[38;5;241m5\u001b[39m),marker\u001b[38;5;241m=\u001b[39mmarker)\n",
      "File \u001b[0;32m/srv/conda/envs/notebook/lib/python3.10/site-packages/pandas/plotting/_core.py:947\u001b[0m, in \u001b[0;36mPlotAccessor.__call__\u001b[0;34m(self, *args, **kwargs)\u001b[0m\n\u001b[1;32m    946\u001b[0m \u001b[38;5;28;01mdef\u001b[39;00m \u001b[38;5;21m__call__\u001b[39m(\u001b[38;5;28mself\u001b[39m, \u001b[38;5;241m*\u001b[39margs, \u001b[38;5;241m*\u001b[39m\u001b[38;5;241m*\u001b[39mkwargs):\n\u001b[0;32m--> 947\u001b[0m     plot_backend \u001b[38;5;241m=\u001b[39m \u001b[43m_get_plot_backend\u001b[49m\u001b[43m(\u001b[49m\u001b[43mkwargs\u001b[49m\u001b[38;5;241;43m.\u001b[39;49m\u001b[43mpop\u001b[49m\u001b[43m(\u001b[49m\u001b[38;5;124;43m\"\u001b[39;49m\u001b[38;5;124;43mbackend\u001b[39;49m\u001b[38;5;124;43m\"\u001b[39;49m\u001b[43m,\u001b[49m\u001b[43m \u001b[49m\u001b[38;5;28;43;01mNone\u001b[39;49;00m\u001b[43m)\u001b[49m\u001b[43m)\u001b[49m\n\u001b[1;32m    949\u001b[0m     x, y, kind, kwargs \u001b[38;5;241m=\u001b[39m \u001b[38;5;28mself\u001b[39m\u001b[38;5;241m.\u001b[39m_get_call_args(\n\u001b[1;32m    950\u001b[0m         plot_backend\u001b[38;5;241m.\u001b[39m\u001b[38;5;18m__name__\u001b[39m, \u001b[38;5;28mself\u001b[39m\u001b[38;5;241m.\u001b[39m_parent, args, kwargs\n\u001b[1;32m    951\u001b[0m     )\n\u001b[1;32m    953\u001b[0m     kind \u001b[38;5;241m=\u001b[39m \u001b[38;5;28mself\u001b[39m\u001b[38;5;241m.\u001b[39m_kind_aliases\u001b[38;5;241m.\u001b[39mget(kind, kind)\n",
      "File \u001b[0;32m/srv/conda/envs/notebook/lib/python3.10/site-packages/pandas/plotting/_core.py:1944\u001b[0m, in \u001b[0;36m_get_plot_backend\u001b[0;34m(backend)\u001b[0m\n\u001b[1;32m   1941\u001b[0m \u001b[38;5;28;01mif\u001b[39;00m backend_str \u001b[38;5;129;01min\u001b[39;00m _backends:\n\u001b[1;32m   1942\u001b[0m     \u001b[38;5;28;01mreturn\u001b[39;00m _backends[backend_str]\n\u001b[0;32m-> 1944\u001b[0m module \u001b[38;5;241m=\u001b[39m \u001b[43m_load_backend\u001b[49m\u001b[43m(\u001b[49m\u001b[43mbackend_str\u001b[49m\u001b[43m)\u001b[49m\n\u001b[1;32m   1945\u001b[0m _backends[backend_str] \u001b[38;5;241m=\u001b[39m module\n\u001b[1;32m   1946\u001b[0m \u001b[38;5;28;01mreturn\u001b[39;00m module\n",
      "File \u001b[0;32m/srv/conda/envs/notebook/lib/python3.10/site-packages/pandas/plotting/_core.py:1874\u001b[0m, in \u001b[0;36m_load_backend\u001b[0;34m(backend)\u001b[0m\n\u001b[1;32m   1872\u001b[0m         module \u001b[38;5;241m=\u001b[39m importlib\u001b[38;5;241m.\u001b[39mimport_module(\u001b[38;5;124m\"\u001b[39m\u001b[38;5;124mpandas.plotting._matplotlib\u001b[39m\u001b[38;5;124m\"\u001b[39m)\n\u001b[1;32m   1873\u001b[0m     \u001b[38;5;28;01mexcept\u001b[39;00m \u001b[38;5;167;01mImportError\u001b[39;00m:\n\u001b[0;32m-> 1874\u001b[0m         \u001b[38;5;28;01mraise\u001b[39;00m \u001b[38;5;167;01mImportError\u001b[39;00m(\n\u001b[1;32m   1875\u001b[0m             \u001b[38;5;124m\"\u001b[39m\u001b[38;5;124mmatplotlib is required for plotting when the \u001b[39m\u001b[38;5;124m\"\u001b[39m\n\u001b[1;32m   1876\u001b[0m             \u001b[38;5;124m'\u001b[39m\u001b[38;5;124mdefault backend \u001b[39m\u001b[38;5;124m\"\u001b[39m\u001b[38;5;124mmatplotlib\u001b[39m\u001b[38;5;124m\"\u001b[39m\u001b[38;5;124m is selected.\u001b[39m\u001b[38;5;124m'\u001b[39m\n\u001b[1;32m   1877\u001b[0m         ) \u001b[38;5;28;01mfrom\u001b[39;00m \u001b[38;5;28;01mNone\u001b[39;00m\n\u001b[1;32m   1878\u001b[0m     \u001b[38;5;28;01mreturn\u001b[39;00m module\n\u001b[1;32m   1880\u001b[0m found_backend \u001b[38;5;241m=\u001b[39m \u001b[38;5;28;01mFalse\u001b[39;00m\n",
      "\u001b[0;31mImportError\u001b[0m: matplotlib is required for plotting when the default backend \"matplotlib\" is selected."
     ]
    }
   ],
   "source": [
    "compare_all_commodities()"
   ]
  },
  {
   "cell_type": "code",
   "execution_count": null,
   "id": "e047cc55-9918-4661-98e3-48d9eae8246a",
   "metadata": {},
   "outputs": [],
   "source": []
  }
 ],
 "metadata": {
  "kernelspec": {
   "display_name": "Python 3 (ipykernel)",
   "language": "python",
   "name": "python3"
  },
  "language_info": {
   "codemirror_mode": {
    "name": "ipython",
    "version": 3
   },
   "file_extension": ".py",
   "mimetype": "text/x-python",
   "name": "python",
   "nbconvert_exporter": "python",
   "pygments_lexer": "ipython3",
   "version": "3.10.12"
  }
 },
 "nbformat": 4,
 "nbformat_minor": 5
}
